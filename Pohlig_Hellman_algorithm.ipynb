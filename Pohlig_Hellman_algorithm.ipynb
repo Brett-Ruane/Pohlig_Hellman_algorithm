{
  "cells": [
    {
      "cell_type": "markdown",
      "metadata": {
        "id": "GjdmU7A84Tbk"
      },
      "source": [
        "### Introduction\n",
        "In this lab, you will implement [the Pohlig-Hellman algorithm](https://www-ee.stanford.edu/~hellman/publications/28.pdf) which efficiently computes discrete logarithms in a [finite abelian group](https://en.wikipedia.org/wiki/Abelian_group#Finite_abelian_groups) whose order is a [smooth integer](https://en.wikipedia.org/wiki/Smooth_number). The Pohlig-Hellman algorithm is the reason why the prime $p$ and the generator $g$ in the Diffie-Hellman key exchange need to be picked carefully (so that the order of the group $G$, which equals to $p-1$, has a large prime factor $q$, and the generator has order $q$).\n",
        "\n",
        "In a bit more detail, the Pohlig-Hellman algorithm works as follows. Suppose one is trying to solve the discrete logarithm $y = g^x \\ (\\text{mod} \\ p)$ where $p-1 = p_{0} \\times p_{1} \\times \\ldots \\times p_{k-1}$ ($p_i$'s are prime numbers. For simplicity, assume that they are all distinct for now.).\n",
        "The Pohlig-Hellman algorithm is a divide and conquer problem that finds $x \\ (\\text{mod} \\ p_1), x \\ (\\text{mod} \\ p_2), \\ldots, x \\ (\\text{mod} \\ p_{k-1})$. And from there, $x (\\text{mod} \\ p_{0} \\times p_{1} \\times \\ldots \\times p_{k-1}) = x \\ (\\text{mod} \\ p-1)$. We explain the core idea in finding $x \\ (\\text{mod} \\ p_i)$ below.\n",
        "\n",
        "### Finding $x \\ (\\text{mod} \\ p_i)$\n",
        "Consider the following concrete example where $p = 2 \\times 5 \\times 7 + 1$ and $g = 11$. $g$ has order $p-1$ (Check that yourself!).\n",
        "The key observation is that for some special powers of $g$, say $g^t$, the order of $g^t$ is much smaller, and the discrete logarithm problem is much simpler with $g^t$ as the generator. There is nothing mysterious about $t$. You can verify yourself that if $t = 2 \\times 5$, $g^t$ has order $7$; $t = 5 \\times 7$, $g^t$ has order $2$; and $t = 2 \\times 7$, $g^t$ has order $5$!\n",
        "\n",
        "How does the fact help us? Suppose the discrete logarithm we are trying to solve is $g^x = g^{13} = 63 \\ (\\text{mod} \\ p)$. What we can do now is to raise the equation to the power $t=2 \\times 5$. So ${g^x}^t = 63^t = 20 \\ (\\text{mod} \\ p)$. But ${g^x}^t = g^{xt} = {g^t}^x$. So solving the discrete logarithm with $g^t$ as the generator gives us $x \\ (\\text{mod} 7)$. We can do the same with $t = 5 \\times 7$ and $t = 2 \\times 7$ to find $x \\ (\\text{mod} \\ 2)$ and $x \\ (\\text{mod} \\ 5)$ respectively.\n",
        "\n",
        "All that is left to explain is how to solve the easier instances of the discrete logarithm problem. You can do that with the baby-step giant-step algorithm you have seen in the class!\n",
        "\n",
        "### Finding $x \\ (\\text{mod} \\ p_{0} \\times p_{1} \\times \\ldots \\times p_{k-1})$\n",
        "Once we know $x \\ (\\text{mod} \\ p_i)$ for each $i$, we can compute $x \\ (\\text{mod} \\ p_{0} \\times p_{1} \\times \\ldots \\times p_{k-1})$ by using the [Chinese remainder theorem](https://en.wikipedia.org/wiki/Chinese_remainder_theorem). That effectively solves the original discrete problem $g^x \\ (\\text{mod} \\ p)$.\n",
        "\n",
        "\n",
        "### Remark\n",
        "So how do you know the factorization of $p-1$ in the first place? Didn't we say that factorization of a large (2048-bit) integer is hard?\n",
        "Yes, factorization is hard in general. But since we only require $p$ to be a prime, there is no guarantee that $p-1$ does not have small factors. The Pohlig-Hellman algorithm *assumes* that $p-1$ can be factorized into small factors and small factors only (that is what a smooth integer means). In other words, the attack does not work against all instances of Diffie-Hellman key exchange (in the version where the generator $g$ is picked randomly), but when it works, it is devastating.\n",
        "\n",
        "### Your Task\n",
        "In this programming assignment, you will implement the Pohlig-Hellman algorithm in its full generality. You should fully understand the reasons behind the choice of prime $q$ and the generator $g$ after the programming assignment."
      ]
    },
    {
      "cell_type": "markdown",
      "metadata": {
        "id": "QCVZWnVY4Tbl"
      },
      "source": [
        "### Overview\n",
        "The assignment is broken down into four components. In the first component, you will implement exponentiation by squaring as a warm-up. Then, you will implement the baby-step giant-step algorithm as you have seen in the class. After that, you will implement a simplified version of the Pohlig-Hellman algorithm where $p-1 = p_1^{e_1}$ ($p_1$ is a prime, $e_1$ is an arbitrary positive integral exponent). Finally, you will extend your implementation to the general case where $p-1 = \\prod_i p_i^{e_i}$.\n"
      ]
    },
    {
      "cell_type": "markdown",
      "metadata": {
        "id": "RqaCYT0v4Tbl"
      },
      "source": [
        "## Part 1: Exponentiation by Squaring (10 points)\n",
        "Implement a function that computes $g^x \\ (\\text{mod} \\ p)$ using [exponentiation by squaring](https://en.wikipedia.org/wiki/Modular_exponentiation)."
      ]
    },
    {
      "cell_type": "code",
      "execution_count": 69,
      "metadata": {
        "vscode": {
          "languageId": "plaintext"
        },
        "colab": {
          "base_uri": "https://localhost:8080/"
        },
        "id": "Bwoc2Hdk4Tbl",
        "outputId": "32b915d2-ed0f-42ba-8fb2-b6ba67011fe5"
      },
      "outputs": [
        {
          "output_type": "stream",
          "name": "stdout",
          "text": [
            "7\n"
          ]
        }
      ],
      "source": [
        "def modexp(g, x, p):\n",
        "    ans = 1\n",
        "    count = 0\n",
        "    while count < x:\n",
        "        count += 1\n",
        "        ans = (g * ans) % p\n",
        "    return ans\n",
        "\n",
        "p = 10\n",
        "g = 3\n",
        "x = 3\n",
        "print(modexp(g, x, p))"
      ]
    },
    {
      "cell_type": "markdown",
      "metadata": {
        "id": "p0tcS5sS4Tbl"
      },
      "source": [
        "## Part 2: Baby-Step Giant-Step (30 points)\n",
        "Implement the baby-step giant-step algorithm. Your function should take the prime $p$, the generator $g$, the order of the generator $r$ and a group element $g^x$ as inputs and outputs $x$. You will be calling the function with generators of the shape $g^t$ and group elements of the shape ${g^x}^t$ later."
      ]
    },
    {
      "cell_type": "code",
      "execution_count": 70,
      "metadata": {
        "vscode": {
          "languageId": "plaintext"
        },
        "colab": {
          "base_uri": "https://localhost:8080/"
        },
        "id": "1RH2oQ8j4Tbl",
        "outputId": "1a8b29ba-5aad-4866-8671-8517cd938f38"
      },
      "outputs": [
        {
          "output_type": "stream",
          "name": "stdout",
          "text": [
            "Found x = 129\n"
          ]
        }
      ],
      "source": [
        "def baby_step_giant_step(p, g, r, gx):\n",
        "    m = int(r**0.5) + 1\n",
        "    baby_steps = {}\n",
        "    value = 1\n",
        "\n",
        "    for j in range(m):\n",
        "        baby_steps[value] = j\n",
        "        value = (value * g) % p\n",
        "\n",
        "    g_to_m    = modexp(g, m, p)\n",
        "    inverse = modexp(g_to_m, p-2, p)\n",
        "\n",
        "    gma = gx\n",
        "    for i in range(m):\n",
        "        if gma in baby_steps:\n",
        "            return i * m + baby_steps[gma]\n",
        "        gma = (gma * inverse) % p\n",
        "\n",
        "p  = 1019\n",
        "g  = 2\n",
        "r  = 1018\n",
        "gx = 623\n",
        "x = baby_step_giant_step(p, g, r, gx)\n",
        "print(f\"Found x = {x}\")"
      ]
    },
    {
      "cell_type": "markdown",
      "metadata": {
        "id": "4ZrJe_Nn4Tbl"
      },
      "source": [
        "## Part 3: The Pohlig-Hellman Algorithm - the Simple Case (30 points)\n",
        "Implement the Pohlig-Hellman algorithm for the case $p-1 = p_1^{e_1}$."
      ]
    },
    {
      "cell_type": "code",
      "execution_count": 71,
      "metadata": {
        "vscode": {
          "languageId": "plaintext"
        },
        "colab": {
          "base_uri": "https://localhost:8080/"
        },
        "id": "ybzh9JhP4Tbm",
        "outputId": "0b582103-3d05-4855-9fa4-d43e6ab68047"
      },
      "outputs": [
        {
          "output_type": "stream",
          "name": "stdout",
          "text": [
            "recovered x = 13\n"
          ]
        }
      ],
      "source": [
        "def simple_case_pohlig_hellman(p, g, gx, p_1, e_1):\n",
        "    r = p_1**e_1\n",
        "    g_0 = modexp(g, r // p_1, p)\n",
        "    x = 0\n",
        "\n",
        "    for i in range(e_1):\n",
        "        exp = r // (p_1**(i + 1))\n",
        "        inverse = modexp(g, r - (x % r), p)\n",
        "        h_i = modexp((gx * inverse) % p, exp, p)\n",
        "        x_i = baby_step_giant_step(p, g_0, p_1, h_i)\n",
        "        x += x_i * (p_1**i)\n",
        "\n",
        "    return x\n",
        "\n",
        "p, p_1, e_1, g, true_x = 17, 2, 4, 3, 13\n",
        "gx = modexp(g, true_x, p)\n",
        "recovered = simple_case_pohlig_hellman(p, g, gx, p_1, e_1)\n",
        "print(\"recovered x =\", recovered)"
      ]
    },
    {
      "cell_type": "markdown",
      "metadata": {
        "id": "XmIpYLQ-4Tbm"
      },
      "source": [
        "## Part 4: The Pohlig-Hellman Algorithm - Full Implementation (30 points)\n",
        "Implement the Pohlig-Hellman algorithm for the general case where $p-1 = \\prod_i p_i^{e_i}$."
      ]
    },
    {
      "cell_type": "code",
      "execution_count": 78,
      "metadata": {
        "vscode": {
          "languageId": "plaintext"
        },
        "id": "mWTg-3oJ4Tbm",
        "colab": {
          "base_uri": "https://localhost:8080/"
        },
        "outputId": "a8c61b42-a01e-4063-9596-b5670b6a8cbe"
      },
      "outputs": [
        {
          "output_type": "stream",
          "name": "stdout",
          "text": [
            "Recovered x ≡ 129 (mod 1018)\n"
          ]
        }
      ],
      "source": [
        "def recombine(R, M):\n",
        "    prod = 1\n",
        "\n",
        "    for m in M:\n",
        "        prod *= m\n",
        "\n",
        "    x = 0\n",
        "\n",
        "    for r_i, m_i in zip(R, M):\n",
        "        N_i = prod // m_i\n",
        "        inv_N_i = pow(N_i, -1, m_i)\n",
        "        x = (x + r_i * N_i * inv_N_i) % prod\n",
        "\n",
        "    return x\n",
        "\n",
        "def pohlig_hellman(p, g, gx, factors):\n",
        "    R = []\n",
        "    M    = []\n",
        "\n",
        "    for p_i, e_i in factors:\n",
        "        r_i   = p_i**e_i\n",
        "        g_i   = modexp(g, (p-1)//r_i, p)\n",
        "        gx_i  = modexp(gx, (p-1)//r_i, p)\n",
        "        x_i = simple_case_pohlig_hellman(p, g_i, gx_i, p_i, e_i)\n",
        "        R.append(x_i)\n",
        "        M.append(r_i)\n",
        "\n",
        "    return recombine(R, M)\n",
        "\n",
        "p = 1019\n",
        "factors = [(2, 1), (509, 1)]\n",
        "g = 2\n",
        "true_x = 12345\n",
        "gx = modexp(g, true_x, p)\n",
        "x_recov = pohlig_hellman(p, g, gx, factors)\n",
        "print(f\"Recovered x ≡ {x_recov} (mod {p-1})\")"
      ]
    },
    {
      "cell_type": "markdown",
      "metadata": {
        "id": "ffTFz3YR4Tbm"
      },
      "source": [
        "### Remark\n",
        "You can check the correctness of your implementation with small prime factors (make sure your $p$ is a prime!). The correctness of your implementation will be checked against larger prime factors (48-bit or more). You can generate primes by implementing the Miller-Rabin primality test yourself (recommended for your understanding) or use the `getPrime()` function from the `PyCryptodome` library (https://www.pycryptodome.org/src/util/util#Crypto.Util.number.getPrime)."
      ]
    }
  ],
  "metadata": {
    "language_info": {
      "name": "python"
    },
    "colab": {
      "provenance": []
    },
    "kernelspec": {
      "name": "python3",
      "display_name": "Python 3"
    }
  },
  "nbformat": 4,
  "nbformat_minor": 0
}